{
 "cells": [
  {
   "cell_type": "markdown",
   "id": "6eb2183d",
   "metadata": {},
   "source": [
    "# Python advanced course - HW in ML\n",
    "## Tomer Antman"
   ]
  },
  {
   "cell_type": "code",
   "execution_count": null,
   "id": "d78c0feb",
   "metadata": {},
   "outputs": [],
   "source": [
    "import numpy as np\n",
    "import pandas as pd\n",
    "from sklearn.model_selection import train_test_split\n",
    "from sklearn.linear_model import LinearRegression\n",
    "from matplotlib import pyplot as plt\n",
    "import seaborn as sns\n"
   ]
  },
  {
   "cell_type": "code",
   "execution_count": null,
   "id": "548890a6",
   "metadata": {},
   "outputs": [],
   "source": [
    "heart_data = pd.read_csv(\"heart.csv\")\n",
    "heart_data.head()"
   ]
  },
  {
   "cell_type": "code",
   "execution_count": null,
   "outputs": [],
   "source": [
    "# Transform the non numeric values to numeric:\n",
    "def handle_non_numerical_data(df):\n",
    "    columns = df.columns.values\n",
    "    for column in columns:\n",
    "        text_digit_vals = {}\n",
    "        def convert_to_int(val):\n",
    "            return text_digit_vals[val]\n",
    "\n",
    "        if df[column].dtype != np.int64 and df[column].dtype != np.float64:\n",
    "            column_contents = df[column].values.tolist()\n",
    "            unique_elements = set(column_contents)\n",
    "            x = 0\n",
    "            for unique in unique_elements:\n",
    "                if unique not in text_digit_vals:\n",
    "                    text_digit_vals[unique] = x\n",
    "                    x+=1\n",
    "\n",
    "            df[column] = list(map(convert_to_int, df[column]))\n",
    "\n",
    "    return df\n",
    "numeric_heart_data = handle_non_numerical_data(heart_data)\n",
    "numeric_heart_data.head()"
   ],
   "metadata": {
    "collapsed": false,
    "pycharm": {
     "name": "#%%\n"
    }
   }
  },
  {
   "cell_type": "code",
   "execution_count": null,
   "outputs": [],
   "source": [
    "y = numeric_heart_data[\"HeartDisease\"].to_numpy()\n",
    "X = numeric_heart_data.drop(columns=[\"HeartDisease\"])\n",
    "X_train, X_test, y_train, y_test =  train_test_split(X, y, test_size=0.33, random_state=42)\n",
    "prediction = LinearRegression().fit(X_train,y_train)\n",
    "\n",
    "print(f'The fit of the linear model is {round(100*prediction.score(X_test, y_test))/100}')\n",
    "# create a data frame with the predictions\n",
    "df = pd.DataFrame(\n",
    "    {\n",
    "        \"prediction\": prediction.predict(X_test),\n",
    "        \"reality\": y_test\n",
    "    }\n",
    ")\n",
    "\n",
    "fig, axes = plt.subplots()\n",
    "\n",
    "sns.violinplot('reality','prediction', data=df, ax = axes)\n",
    "axes.set_title('Prediction quality based on linear model')\n",
    "\n",
    "\n",
    "axes.yaxis.grid(True)\n",
    "axes.set_xlabel('Real value')\n",
    "axes.set_ylabel(\"predicted values\")\n",
    "\n",
    "plt.show()\n"
   ],
   "metadata": {
    "collapsed": false,
    "pycharm": {
     "name": "#%%\n"
    }
   }
  }
 ],
 "metadata": {
  "kernelspec": {
   "display_name": "Python 3",
   "language": "python",
   "name": "python3"
  },
  "language_info": {
   "codemirror_mode": {
    "name": "ipython",
    "version": 3
   },
   "file_extension": ".py",
   "mimetype": "text/x-python",
   "name": "python",
   "nbconvert_exporter": "python",
   "pygments_lexer": "ipython3",
   "version": "3.8.8"
  }
 },
 "nbformat": 4,
 "nbformat_minor": 5
}